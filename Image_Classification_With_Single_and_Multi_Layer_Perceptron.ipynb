{
  "nbformat": 4,
  "nbformat_minor": 0,
  "metadata": {
    "colab": {
      "provenance": [],
      "machine_shape": "hm",
      "gpuType": "T4",
      "include_colab_link": true
    },
    "kernelspec": {
      "name": "python3",
      "display_name": "Python 3"
    },
    "language_info": {
      "name": "python"
    },
    "accelerator": "GPU"
  },
  "cells": [
    {
      "cell_type": "markdown",
      "metadata": {
        "id": "view-in-github",
        "colab_type": "text"
      },
      "source": [
        "<a href=\"https://colab.research.google.com/github/piziomo/Trainings/blob/main/Image_Classification_With_Single_and_Multi_Layer_Perceptron.ipynb\" target=\"_parent\"><img src=\"https://colab.research.google.com/assets/colab-badge.svg\" alt=\"Open In Colab\"/></a>"
      ]
    },
    {
      "cell_type": "markdown",
      "source": [
        "# Feeling for the (Neural) Organism (3rd December 2024) Notebook (v.2.2)\n",
        "IM952 Big Data Research: Hype or Revolution?\n",
        "3rd December 2024\n",
        "\n",
        "Michael Castelle, Centre for Interdisciplinary Methodologies, University of Warwick (*M.Castelle.1 at warwick.ac.uk*)"
      ],
      "metadata": {
        "id": "6aSBAuxNvUKf"
      }
    },
    {
      "cell_type": "markdown",
      "metadata": {
        "id": "zGLadGLg_8cs"
      },
      "source": [
        "---\n",
        "\n",
        "## Part 1. Single-Layer Perceptron and Multi-Layer Perceptron\n",
        "\n",
        "---\n",
        "\n",
        "In this section, we will be  **classifying grayscale images of handwritten digits** (28 pixels by 28 pixels), into their 10 categories (0 to 9). The dataset we will use is the MNIST dataset. It's a set of 60,000 training images, plus 10,000 test images, assembled by the National Institute of Standards and Technology (the NIST in MNIST) in the 1980s.\n",
        "\n",
        "The MNIST dataset comes pre-loaded in the Keras deep learning library for Python, in the form of a set of four Numpy arrays.\n"
      ]
    },
    {
      "cell_type": "code",
      "execution_count": null,
      "metadata": {
        "id": "FrseAQLS_8ct",
        "colab": {
          "base_uri": "https://localhost:8080/"
        },
        "outputId": "0d562270-5901-429a-c41d-3e2b8118ee23"
      },
      "outputs": [
        {
          "output_type": "stream",
          "name": "stdout",
          "text": [
            "tensorflow version: 2.17.1\n",
            " matplotlib version: 3.8.0\n",
            " numpy version: 1.26.4\n"
          ]
        }
      ],
      "source": [
        "import numpy as np\n",
        "import matplotlib\n",
        "import matplotlib.pyplot as plt\n",
        "import tensorflow as tf\n",
        "\n",
        "from tensorflow.keras import models, layers, optimizers, losses, metrics\n",
        "from tensorflow.keras.datasets import mnist\n",
        "from tensorflow.keras.utils import to_categorical\n",
        "from tensorflow.keras.layers import Input\n",
        "\n",
        "# Check version of imported modules\n",
        "print(f\"tensorflow version: {tf.__version__}\\n\",\n",
        "      f\"matplotlib version: {matplotlib.__version__}\\n\",\n",
        "      f\"numpy version: {np.__version__}\")"
      ]
    },
    {
      "cell_type": "markdown",
      "metadata": {
        "id": "MedW4xL2_8cu"
      },
      "source": [
        "### Load dataset\n",
        "\n",
        "`train_images` and `train_labels` form the \"training set\", the data that the model will learn from. The model will then be tested on the \"test set\", `test_images` and `test_labels`. The images are encoded as Numpy arrays, and the labels are simply an array of digits, ranging from 0 to 9. There is a one-to-one correspondence between the images and the labels."
      ]
    },
    {
      "cell_type": "code",
      "execution_count": null,
      "metadata": {
        "id": "nV7s6X_P_8cv",
        "colab": {
          "base_uri": "https://localhost:8080/"
        },
        "outputId": "b5c772a5-a7a2-456f-eded-2faff5a9ecda"
      },
      "outputs": [
        {
          "output_type": "stream",
          "name": "stdout",
          "text": [
            "Downloading data from https://storage.googleapis.com/tensorflow/tf-keras-datasets/mnist.npz\n",
            "\u001b[1m11490434/11490434\u001b[0m \u001b[32m━━━━━━━━━━━━━━━━━━━━\u001b[0m\u001b[37m\u001b[0m \u001b[1m2s\u001b[0m 0us/step\n"
          ]
        }
      ],
      "source": [
        "(train_images, train_labels), (test_images, test_labels) = mnist.load_data()"
      ]
    },
    {
      "cell_type": "code",
      "execution_count": null,
      "metadata": {
        "id": "rtsMBXtB_8cv",
        "colab": {
          "base_uri": "https://localhost:8080/"
        },
        "outputId": "e6888fa8-573a-4a71-ef60-778fea1df2d2"
      },
      "outputs": [
        {
          "output_type": "stream",
          "name": "stdout",
          "text": [
            "train_images.shape: (60000, 28, 28)\n",
            "train_labels.shape: (60000,)\n",
            "test_images.shape: (10000, 28, 28)\n",
            "test_labels.shape: (10000,)\n"
          ]
        }
      ],
      "source": [
        "print(\"train_images.shape:\", train_images.shape)\n",
        "print(\"train_labels.shape:\", train_labels.shape)\n",
        "print(\"test_images.shape:\", test_images.shape)\n",
        "print(\"test_labels.shape:\", test_labels.shape)"
      ]
    },
    {
      "cell_type": "code",
      "execution_count": null,
      "metadata": {
        "id": "LmUwA6EA_8cv",
        "colab": {
          "base_uri": "https://localhost:8080/"
        },
        "outputId": "8e888723-ecec-4398-e7bb-e22f78b28e26"
      },
      "outputs": [
        {
          "output_type": "stream",
          "name": "stdout",
          "text": [
            "[5 0 4 1 9 2 1 3 1 4]\n"
          ]
        }
      ],
      "source": [
        "print(train_labels[0:10])"
      ]
    },
    {
      "cell_type": "code",
      "execution_count": null,
      "metadata": {
        "id": "dbBGDf8U_8cv",
        "colab": {
          "base_uri": "https://localhost:8080/",
          "height": 447
        },
        "outputId": "5176f878-acc5-425c-da8a-737e39e667ab"
      },
      "outputs": [
        {
          "output_type": "display_data",
          "data": {
            "text/plain": [
              "<Figure size 640x480 with 1 Axes>"
            ],
            "image/png": "[encoded data removed]"
          },
          "metadata": {}
        },
        {
          "output_type": "stream",
          "name": "stdout",
          "text": [
            "label for image:  4\n"
          ]
        }
      ],
      "source": [
        "# pick a sample to plot\n",
        "sample = 2\n",
        "image = train_images[sample]\n",
        "# plot the sample\n",
        "fig = plt.figure\n",
        "plt.imshow(image, cmap='gray')\n",
        "plt.show()\n",
        "print(\"label for image: \", train_labels[sample])"
      ]
    },
    {
      "cell_type": "code",
      "source": [
        "num = 15\n",
        "images = train_images[:num]     #select 15 samples with their labels\n",
        "labels = train_labels[:num]\n",
        "\n",
        "num_row = 3\n",
        "num_col = 5\n",
        "\n",
        "# plot images\n",
        "fig, axes = plt.subplots(num_row, num_col, figsize=(1.5*num_col,2*num_row))\n",
        "for i in range(num):\n",
        "    ax = axes[i//num_col, i%num_col]\n",
        "    ax.imshow(train_images[i], cmap='gray')\n",
        "    ax.set_title('Label: {}'.format(labels[i]))\n",
        "plt.tight_layout()\n",
        "plt.show()"
      ],
      "metadata": {
        "id": "7Cjo69wpEaOh",
        "colab": {
          "base_uri": "https://localhost:8080/",
          "height": 577
        },
        "outputId": "d2f5158f-4f93-4eae-c775-b9727e50499d"
      },
      "execution_count": null,
      "outputs": [
        {
          "output_type": "display_data",
          "data": {
            "text/plain": [
              "<Figure size 750x600 with 15 Axes>"
            ],
            "image/png": "[encoded data removed]"
          },
          "metadata": {}
        }
      ]
    },
    {
      "cell_type": "markdown",
      "source": [
        "Let’s explore the test data."
      ],
      "metadata": {
        "id": "ATCX56h3ACK2"
      }
    },
    {
      "cell_type": "code",
      "source": [
        "print(\"test_images.shape:\", test_images.shape)\n",
        "print(\"test_labels.shape:\", test_labels.shape)"
      ],
      "metadata": {
        "id": "88KEM1iIAHdi",
        "colab": {
          "base_uri": "https://localhost:8080/"
        },
        "outputId": "5c0429b8-0656-4b37-cf8e-90d4d31d5956"
      },
      "execution_count": null,
      "outputs": [
        {
          "output_type": "stream",
          "name": "stdout",
          "text": [
            "test_images.shape: (10000, 28, 28)\n",
            "test_labels.shape: (10000,)\n"
          ]
        }
      ]
    },
    {
      "cell_type": "code",
      "source": [
        "# Display number of labels\n",
        "len(test_labels)"
      ],
      "metadata": {
        "id": "JpPM3ZHSGoSa",
        "colab": {
          "base_uri": "https://localhost:8080/"
        },
        "outputId": "cc9d4111-33f6-488c-936c-6edba75b2dda"
      },
      "execution_count": null,
      "outputs": [
        {
          "output_type": "execute_result",
          "data": {
            "text/plain": [
              "10000"
            ]
          },
          "metadata": {},
          "execution_count": 8
        }
      ]
    },
    {
      "cell_type": "code",
      "source": [
        "# Print output class for the selected training samples\n",
        "test_labels[0:20]"
      ],
      "metadata": {
        "id": "gGqeDAdtHI-F",
        "colab": {
          "base_uri": "https://localhost:8080/"
        },
        "outputId": "2bc6b754-858a-4a38-c5f2-d58f8bea2b4c"
      },
      "execution_count": null,
      "outputs": [
        {
          "output_type": "execute_result",
          "data": {
            "text/plain": [
              "array([7, 2, 1, 0, 4, 1, 4, 9, 5, 9, 0, 6, 9, 0, 1, 5, 9, 7, 3, 4],\n",
              "      dtype=uint8)"
            ]
          },
          "metadata": {},
          "execution_count": 9
        }
      ]
    },
    {
      "cell_type": "code",
      "source": [
        "num = 10\n",
        "images = test_images[:num]\n",
        "labels = test_labels[:num]\n",
        "\n",
        "num_row = 2\n",
        "num_col = 5\n",
        "\n",
        "# plot images\n",
        "fig, axes = plt.subplots(num_row, num_col, figsize=(1.5*num_col,2*num_row))\n",
        "for i in range(num):\n",
        "    ax = axes[i//num_col, i%num_col]\n",
        "    ax.imshow(test_images[i], cmap='gray')\n",
        "    ax.set_title('Label: {}'.format(labels[i]))\n",
        "plt.tight_layout()\n",
        "plt.show()"
      ],
      "metadata": {
        "id": "2agCpMAHHcfU",
        "colab": {
          "base_uri": "https://localhost:8080/",
          "height": 380
        },
        "outputId": "af49bdac-f87a-4267-be31-cf413a64bf9e"
      },
      "execution_count": null,
      "outputs": [
        {
          "output_type": "display_data",
          "data": {
            "text/plain": [
              "<Figure size 750x400 with 10 Axes>"
            ],
            "image/png": "[encoded data removed]"
          },
          "metadata": {}
        }
      ]
    },
    {
      "cell_type": "markdown",
      "metadata": {
        "id": "IAGC8g6B_8cv"
      },
      "source": [
        "### Preprocess data\n",
        "\n",
        "Before training, we will preprocess our data by reshaping it into the shape that the network expects, and scaling it so that all values are in the [0, 1] interval. Previously, our training images for instance were stored in an array of shape (60000, 28, 28) integer values in the [0, 255] interval. We transform it into a floating-point value array of shape (60000, 28 * 28) with values between 0 and 1.\n",
        "\n",
        "We do also need to categorically encode the labels (so-called \"one-hot\" encoding)."
      ]
    },
    {
      "cell_type": "code",
      "execution_count": null,
      "metadata": {
        "id": "ujs1I-Mt_8cv"
      },
      "outputs": [],
      "source": [
        "train_images_new = train_images.reshape((60000, 28 * 28))\n",
        "train_images_new = train_images_new.astype('float32') / 255\n",
        "\n",
        "test_images_new = test_images.reshape((10000, 28 * 28))\n",
        "test_images_new = test_images_new.astype('float32') / 255\n",
        "\n",
        "train_labels_new = to_categorical(train_labels)\n",
        "test_labels_new = to_categorical(test_labels)"
      ]
    },
    {
      "cell_type": "code",
      "execution_count": null,
      "metadata": {
        "id": "8fYpby0o_8cw",
        "colab": {
          "base_uri": "https://localhost:8080/"
        },
        "outputId": "cb135c2e-eb50-4487-a7c8-34d029291ee9"
      },
      "outputs": [
        {
          "output_type": "stream",
          "name": "stdout",
          "text": [
            "[0. 0. 0. 0. 0. 1. 0. 0. 0. 0.]\n"
          ]
        }
      ],
      "source": [
        "print(train_labels_new[0])"
      ]
    },
    {
      "cell_type": "markdown",
      "metadata": {
        "id": "bukyEwyn_8cw"
      },
      "source": [
        "### Build a Single-Layer Perceptron (SLP) model\n",
        "\n",
        "Here our network consists of a single Dense (or \"fully-connected\") 10-way \"softmax\" layer, which means it will return an array of 10 probability scores (summing to 1). Each score will be the probability that the current digit image belongs to one of our 10 digit classes.\n",
        "\n"
      ]
    },
    {
      "cell_type": "code",
      "execution_count": null,
      "metadata": {
        "id": "0B8c0BV__8cw"
      },
      "outputs": [],
      "source": [
        "# Single-Layer Perceptron\n",
        "slp_model = models.Sequential()\n",
        "slp_model.add(Input(shape=(28*28,)))\n",
        "slp_model.add(layers.Dense(10, activation='softmax'))"
      ]
    },
    {
      "cell_type": "code",
      "execution_count": null,
      "metadata": {
        "id": "8cmS_5iq_8cw",
        "colab": {
          "base_uri": "https://localhost:8080/"
        },
        "outputId": "dc00c5f4-cce8-49fc-ffe4-2777a0c85f9a"
      },
      "outputs": [
        {
          "output_type": "stream",
          "name": "stdout",
          "text": [
            "<class 'keras.src.models.sequential.Sequential'>\n"
          ]
        }
      ],
      "source": [
        "print(type(slp_model))"
      ]
    },
    {
      "cell_type": "markdown",
      "metadata": {
        "id": "chFklhWq_8cw"
      },
      "source": [
        "### Compile SLP model\n",
        "\n",
        "To make our network ready for training, we need to pick three more things, as part of \"compilation\" step:\n",
        "\n",
        " * A loss function: this is how the network will be able to measure how good a job it is doing classifying its training data, and thus how it will be able to steer itself in the right direction with the optimizer (see below).\n",
        "\n",
        " * An optimizer: this is the mechanism through which the network will update itself based on the output of the loss function. Geoff Hinton's 'rmsprop' algorithm maintains an average of the squares of the losses and adjusts weights via backpropagation accordingly.\n",
        "\n",
        " * Metrics to monitor during training and testing. Here we will only care about accuracy (the fraction of the images that were correctly classified)."
      ]
    },
    {
      "cell_type": "code",
      "execution_count": null,
      "metadata": {
        "id": "qFvYzuYl_8cw"
      },
      "outputs": [],
      "source": [
        "slp_model.compile(\n",
        "    loss='categorical_crossentropy',\n",
        "    optimizer='rmsprop',\n",
        "    metrics=['accuracy']\n",
        ")"
      ]
    },
    {
      "cell_type": "code",
      "execution_count": null,
      "metadata": {
        "id": "gE6J1scH_8cw",
        "colab": {
          "base_uri": "https://localhost:8080/",
          "height": 161
        },
        "outputId": "d1bfd755-9149-4484-af02-189224a55ede"
      },
      "outputs": [
        {
          "output_type": "display_data",
          "data": {
            "text/plain": [
              "\u001b[1mModel: \"sequential\"\u001b[0m\n"
            ],
            "text/html": [
              "<pre style=\"white-space:pre;overflow-x:auto;line-height:normal;font-family:Menlo,'DejaVu Sans Mono',consolas,'Courier New',monospace\"><span style=\"font-weight: bold\">Model: \"sequential\"</span>\n",
              "</pre>\n"
            ]
          },
          "metadata": {}
        },
        {
          "output_type": "display_data",
          "data": {
            "text/plain": [
              "┏━━━━━━━━━━━━━━━━━━━━━━━━━━━━━━━━━━━━━━┳━━━━━━━━━━━━━━━━━━━━━━━━━━━━━┳━━━━━━━━━━━━━━━━━┓\n",
              "┃\u001b[1m \u001b[0m\u001b[1mLayer (type)                        \u001b[0m\u001b[1m \u001b[0m┃\u001b[1m \u001b[0m\u001b[1mOutput Shape               \u001b[0m\u001b[1m \u001b[0m┃\u001b[1m \u001b[0m\u001b[1m        Param #\u001b[0m\u001b[1m \u001b[0m┃\n",
              "┡━━━━━━━━━━━━━━━━━━━━━━━━━━━━━━━━━━━━━━╇━━━━━━━━━━━━━━━━━━━━━━━━━━━━━╇━━━━━━━━━━━━━━━━━┩\n",
              "│ dense (\u001b[38;5;33mDense\u001b[0m)                        │ (\u001b[38;5;45mNone\u001b[0m, \u001b[38;5;34m10\u001b[0m)                  │           \u001b[38;5;34m7,850\u001b[0m │\n",
              "└──────────────────────────────────────┴─────────────────────────────┴─────────────────┘\n"
            ],
            "text/html": [
              "<pre style=\"white-space:pre;overflow-x:auto;line-height:normal;font-family:Menlo,'DejaVu Sans Mono',consolas,'Courier New',monospace\">┏━━━━━━━━━━━━━━━━━━━━━━━━━━━━━━━━━━━━━━┳━━━━━━━━━━━━━━━━━━━━━━━━━━━━━┳━━━━━━━━━━━━━━━━━┓\n",
              "┃<span style=\"font-weight: bold\"> Layer (type)                         </span>┃<span style=\"font-weight: bold\"> Output Shape                </span>┃<span style=\"font-weight: bold\">         Param # </span>┃\n",
              "┡━━━━━━━━━━━━━━━━━━━━━━━━━━━━━━━━━━━━━━╇━━━━━━━━━━━━━━━━━━━━━━━━━━━━━╇━━━━━━━━━━━━━━━━━┩\n",
              "│ dense (<span style=\"color: #0087ff; text-decoration-color: #0087ff\">Dense</span>)                        │ (<span style=\"color: #00d7ff; text-decoration-color: #00d7ff\">None</span>, <span style=\"color: #00af00; text-decoration-color: #00af00\">10</span>)                  │           <span style=\"color: #00af00; text-decoration-color: #00af00\">7,850</span> │\n",
              "└──────────────────────────────────────┴─────────────────────────────┴─────────────────┘\n",
              "</pre>\n"
            ]
          },
          "metadata": {}
        },
        {
          "output_type": "display_data",
          "data": {
            "text/plain": [
              "\u001b[1m Total params: \u001b[0m\u001b[38;5;34m7,850\u001b[0m (30.66 KB)\n"
            ],
            "text/html": [
              "<pre style=\"white-space:pre;overflow-x:auto;line-height:normal;font-family:Menlo,'DejaVu Sans Mono',consolas,'Courier New',monospace\"><span style=\"font-weight: bold\"> Total params: </span><span style=\"color: #00af00; text-decoration-color: #00af00\">7,850</span> (30.66 KB)\n",
              "</pre>\n"
            ]
          },
          "metadata": {}
        },
        {
          "output_type": "display_data",
          "data": {
            "text/plain": [
              "\u001b[1m Trainable params: \u001b[0m\u001b[38;5;34m7,850\u001b[0m (30.66 KB)\n"
            ],
            "text/html": [
              "<pre style=\"white-space:pre;overflow-x:auto;line-height:normal;font-family:Menlo,'DejaVu Sans Mono',consolas,'Courier New',monospace\"><span style=\"font-weight: bold\"> Trainable params: </span><span style=\"color: #00af00; text-decoration-color: #00af00\">7,850</span> (30.66 KB)\n",
              "</pre>\n"
            ]
          },
          "metadata": {}
        },
        {
          "output_type": "display_data",
          "data": {
            "text/plain": [
              "\u001b[1m Non-trainable params: \u001b[0m\u001b[38;5;34m0\u001b[0m (0.00 B)\n"
            ],
            "text/html": [
              "<pre style=\"white-space:pre;overflow-x:auto;line-height:normal;font-family:Menlo,'DejaVu Sans Mono',consolas,'Courier New',monospace\"><span style=\"font-weight: bold\"> Non-trainable params: </span><span style=\"color: #00af00; text-decoration-color: #00af00\">0</span> (0.00 B)\n",
              "</pre>\n"
            ]
          },
          "metadata": {}
        }
      ],
      "source": [
        "slp_model.summary()"
      ]
    },
    {
      "cell_type": "code",
      "execution_count": null,
      "metadata": {
        "id": "H_JDihY5_8cw",
        "colab": {
          "base_uri": "https://localhost:8080/"
        },
        "outputId": "1c35674b-e411-42c6-ada4-2b0cac00df57"
      },
      "outputs": [
        {
          "output_type": "execute_result",
          "data": {
            "text/plain": [
              "7850"
            ]
          },
          "metadata": {},
          "execution_count": 17
        }
      ],
      "source": [
        "784*10+10"
      ]
    },
    {
      "cell_type": "markdown",
      "metadata": {
        "id": "V5y73mW2_8cw"
      },
      "source": [
        "### Train the SLP model\n",
        "\n",
        "Two quantities are being displayed during training: the \"loss\" of the network over the training data, and the accuracy of the network over the training data"
      ]
    },
    {
      "cell_type": "code",
      "execution_count": null,
      "metadata": {
        "id": "RYsp6kAr_8cw",
        "colab": {
          "base_uri": "https://localhost:8080/"
        },
        "outputId": "fcda51d7-815b-4596-86d4-4baad910bde5"
      },
      "outputs": [
        {
          "output_type": "stream",
          "name": "stdout",
          "text": [
            "Epoch 1/5\n",
            "\u001b[1m59/59\u001b[0m \u001b[32m━━━━━━━━━━━━━━━━━━━━\u001b[0m\u001b[37m\u001b[0m \u001b[1m2s\u001b[0m 10ms/step - accuracy: 0.5083 - loss: 1.7056\n",
            "Epoch 2/5\n",
            "\u001b[1m59/59\u001b[0m \u001b[32m━━━━━━━━━━━━━━━━━━━━\u001b[0m\u001b[37m\u001b[0m \u001b[1m0s\u001b[0m 3ms/step - accuracy: 0.8405 - loss: 0.7310\n",
            "Epoch 3/5\n",
            "\u001b[1m59/59\u001b[0m \u001b[32m━━━━━━━━━━━━━━━━━━━━\u001b[0m\u001b[37m\u001b[0m \u001b[1m0s\u001b[0m 3ms/step - accuracy: 0.8723 - loss: 0.5042\n",
            "Epoch 4/5\n",
            "\u001b[1m59/59\u001b[0m \u001b[32m━━━━━━━━━━━━━━━━━━━━\u001b[0m\u001b[37m\u001b[0m \u001b[1m0s\u001b[0m 3ms/step - accuracy: 0.8913 - loss: 0.4081\n",
            "Epoch 5/5\n",
            "\u001b[1m59/59\u001b[0m \u001b[32m━━━━━━━━━━━━━━━━━━━━\u001b[0m\u001b[37m\u001b[0m \u001b[1m0s\u001b[0m 3ms/step - accuracy: 0.8988 - loss: 0.3710\n"
          ]
        }
      ],
      "source": [
        "history=slp_model.fit(train_images_new, train_labels_new, epochs=5, batch_size=1024)"
      ]
    },
    {
      "cell_type": "markdown",
      "source": [
        "### Use model to make predictions\n",
        "Now that we have trained the model, we can use it to predict class probabilities for new digits, i.e., images that weren’t part of the training data, like those from the test set."
      ],
      "metadata": {
        "id": "2469DWnRUain"
      }
    },
    {
      "cell_type": "code",
      "source": [
        "# Make predictions\n",
        "test_digits = test_images_new[0:10]\n",
        "predictions = slp_model.predict(test_digits)\n",
        "np.set_printoptions(suppress=True, linewidth=200)\n",
        "print(predictions[0])"
      ],
      "metadata": {
        "id": "DnBCpEu2U1jZ",
        "colab": {
          "base_uri": "https://localhost:8080/"
        },
        "outputId": "361f39ea-9476-4694-bc89-52a51431d38a"
      },
      "execution_count": null,
      "outputs": [
        {
          "output_type": "stream",
          "name": "stdout",
          "text": [
            "\u001b[1m1/1\u001b[0m \u001b[32m━━━━━━━━━━━━━━━━━━━━\u001b[0m\u001b[37m\u001b[0m \u001b[1m0s\u001b[0m 190ms/step\n",
            "[0.00014571 0.00000048 0.0001305  0.00244384 0.00005124 0.00013324 0.00000195 0.99356246 0.00022586 0.00330475]\n"
          ]
        }
      ]
    },
    {
      "cell_type": "markdown",
      "source": [
        "Each number of index i in that array corresponds to the probability that digit image test_digits[0] belongs to class i.  This  first  test  digit  has  the  highest  probability  score  (0.99+,  almost  1)  at index 7, so according to our model, it must be a 7. Let's check this out:"
      ],
      "metadata": {
        "id": "rw-FUFR5VQh5"
      }
    },
    {
      "cell_type": "code",
      "source": [
        "print(predictions[0][7])\n",
        "print(predictions[0].argmax())"
      ],
      "metadata": {
        "id": "ouLYHjgMWLEY",
        "colab": {
          "base_uri": "https://localhost:8080/"
        },
        "outputId": "a107cce9-687e-4f18-f721-88bb2e2dbff2"
      },
      "execution_count": null,
      "outputs": [
        {
          "output_type": "stream",
          "name": "stdout",
          "text": [
            "0.99356246\n",
            "7\n"
          ]
        }
      ]
    },
    {
      "cell_type": "markdown",
      "source": [
        "Check that the test label agrees:"
      ],
      "metadata": {
        "id": "ucv2v3wFGBRb"
      }
    },
    {
      "cell_type": "code",
      "source": [
        "test_labels[0]"
      ],
      "metadata": {
        "id": "SGzHmxz-WbCf",
        "colab": {
          "base_uri": "https://localhost:8080/"
        },
        "outputId": "e88beadc-a097-43d5-b110-1315a30376c8"
      },
      "execution_count": null,
      "outputs": [
        {
          "output_type": "execute_result",
          "data": {
            "text/plain": [
              "7"
            ]
          },
          "metadata": {},
          "execution_count": 21
        }
      ]
    },
    {
      "cell_type": "markdown",
      "metadata": {
        "id": "WPCX6Grk_8cw"
      },
      "source": [
        "### Evaluation of SLP model"
      ]
    },
    {
      "cell_type": "code",
      "execution_count": null,
      "metadata": {
        "id": "5ktiv7xl_8cw",
        "colab": {
          "base_uri": "https://localhost:8080/"
        },
        "outputId": "c20b4c79-84a6-4208-d74f-3cab067539d9"
      },
      "outputs": [
        {
          "output_type": "stream",
          "name": "stdout",
          "text": [
            "\u001b[1m313/313\u001b[0m \u001b[32m━━━━━━━━━━━━━━━━━━━━\u001b[0m\u001b[37m\u001b[0m \u001b[1m1s\u001b[0m 2ms/step - accuracy: 0.8935 - loss: 0.3834\n"
          ]
        }
      ],
      "source": [
        "test_loss, test_acc = slp_model.evaluate(test_images_new, test_labels_new)"
      ]
    },
    {
      "cell_type": "code",
      "execution_count": null,
      "metadata": {
        "id": "ubN8i_rM_8cw",
        "colab": {
          "base_uri": "https://localhost:8080/"
        },
        "outputId": "48c7d523-cd8f-4e53-8caa-83b6c9742b61"
      },
      "outputs": [
        {
          "output_type": "stream",
          "name": "stdout",
          "text": [
            "test_acc: 0.9075000286102295\n"
          ]
        }
      ],
      "source": [
        "print('test_acc:', test_acc)"
      ]
    },
    {
      "cell_type": "markdown",
      "metadata": {
        "id": "a7EuW4rB_8cx"
      },
      "source": [
        "### Plot training loss and training accuracy"
      ]
    },
    {
      "cell_type": "code",
      "execution_count": null,
      "metadata": {
        "id": "0CetdyLU_8cx",
        "colab": {
          "base_uri": "https://localhost:8080/",
          "height": 922
        },
        "outputId": "e8c02ac9-556d-4c51-c162-dc165b7b6887"
      },
      "outputs": [
        {
          "output_type": "display_data",
          "data": {
            "text/plain": [
              "<Figure size 640x480 with 1 Axes>"
            ],
            "image/png": "[encoded data removed]"
          },
          "metadata": {}
        },
        {
          "output_type": "execute_result",
          "data": {
            "text/plain": [
              "<Figure size 640x480 with 0 Axes>"
            ]
          },
          "metadata": {},
          "execution_count": 24
        },
        {
          "output_type": "display_data",
          "data": {
            "text/plain": [
              "<Figure size 640x480 with 1 Axes>"
            ],
            "image/png": "[encoded data removed]"
          },
          "metadata": {}
        },
        {
          "output_type": "display_data",
          "data": {
            "text/plain": [
              "<Figure size 640x480 with 0 Axes>"
            ]
          },
          "metadata": {}
        }
      ],
      "source": [
        "import matplotlib.pyplot as plt\n",
        "\n",
        "acc = history.history['accuracy']\n",
        "loss = history.history['loss']\n",
        "\n",
        "epochs = range(len(acc))\n",
        "\n",
        "plt.plot(epochs, loss, '-bo', label='Training loss')\n",
        "plt.title('Training loss')\n",
        "plt.legend()\n",
        "plt.show()\n",
        "\n",
        "plt.plot(epochs, acc, '-bo', label='Training acc')\n",
        "plt.title('Training accuracy')\n",
        "plt.legend()\n",
        "plt.figure()"
      ]
    },
    {
      "cell_type": "markdown",
      "source": [
        "### Display some of the wrong guesses for single-layer perceptron\n",
        "\n",
        "Now let's look for some mis-classified digits."
      ],
      "metadata": {
        "id": "lh-yjlimGa07"
      }
    },
    {
      "cell_type": "code",
      "source": [
        "predictions = slp_model.predict(test_images_new)\n",
        "final_predictions = np.argmax(predictions, axis=1)\n",
        "(incorrects,) = np.nonzero(final_predictions != test_labels)\n",
        "num = 10\n",
        "incorrect_indices = incorrects[0:num]\n",
        "num_row = 2\n",
        "num_col = 5\n",
        "fig, axes = plt.subplots(num_row, num_col, figsize=(1.5*num_col,2*num_row))\n",
        "for i in range(num):\n",
        "    incorrect_index = incorrect_indices[i]\n",
        "    ax = axes[i//num_col, i%num_col]\n",
        "    ax.imshow(test_images[incorrect_index], cmap='gray')\n",
        "    ax.set_title('Label: {}\\nPred: {}'.format(*[test_labels[incorrect_index], final_predictions[incorrect_index]]))\n",
        "plt.tight_layout()\n",
        "plt.show()"
      ],
      "metadata": {
        "id": "cg_HcGLkGcoL",
        "colab": {
          "base_uri": "https://localhost:8080/",
          "height": 418
        },
        "outputId": "ff5acae4-99ab-458f-d208-0c257e940e0d"
      },
      "execution_count": null,
      "outputs": [
        {
          "output_type": "stream",
          "name": "stdout",
          "text": [
            "\u001b[1m313/313\u001b[0m \u001b[32m━━━━━━━━━━━━━━━━━━━━\u001b[0m\u001b[37m\u001b[0m \u001b[1m1s\u001b[0m 1ms/step\n"
          ]
        },
        {
          "output_type": "display_data",
          "data": {
            "text/plain": [
              "<Figure size 750x400 with 10 Axes>"
            ],
            "image/png": "[encoded data removed]"
          },
          "metadata": {}
        }
      ]
    },
    {
      "cell_type": "markdown",
      "metadata": {
        "id": "ORdgdixq_8cx"
      },
      "source": [
        "### Build a Multi-Layer Perceptron (MLP) model\n",
        "\n",
        "Here our network consists of a sequence of two Dense (\"fully-connected\") layers. The second (and last) layer is a 10-way \"softmax\" layer, which means it will return an array of 10 probability scores (summing to 1). Each score will be the probability that the current digit image belongs to one of our 10 digit classes.\n"
      ]
    },
    {
      "cell_type": "code",
      "execution_count": null,
      "metadata": {
        "id": "c3_xBFvG_8cx"
      },
      "outputs": [],
      "source": [
        "mlp_model = models.Sequential()\n",
        "mlp_model.add(Input(shape=(28*28,)))\n",
        "mlp_model.add(layers.Dense(512, activation='relu'))\n",
        "mlp_model.add(layers.Dense(10, activation='softmax'))"
      ]
    },
    {
      "cell_type": "markdown",
      "metadata": {
        "id": "TdBRR50h_8cx"
      },
      "source": [
        "### Compile the MLP model"
      ]
    },
    {
      "cell_type": "code",
      "execution_count": null,
      "metadata": {
        "id": "-iOaaiZ-_8cx"
      },
      "outputs": [],
      "source": [
        "mlp_model.compile(\n",
        "    loss='categorical_crossentropy',\n",
        "    optimizer='rmsprop',\n",
        "    metrics=['accuracy']\n",
        ")"
      ]
    },
    {
      "cell_type": "code",
      "execution_count": null,
      "metadata": {
        "id": "gPgCrYNE_8cx",
        "colab": {
          "base_uri": "https://localhost:8080/",
          "height": 193
        },
        "outputId": "64588e3f-23be-4884-d152-2f48ae6ed6a9"
      },
      "outputs": [
        {
          "output_type": "display_data",
          "data": {
            "text/plain": [
              "\u001b[1mModel: \"sequential_1\"\u001b[0m\n"
            ],
            "text/html": [
              "<pre style=\"white-space:pre;overflow-x:auto;line-height:normal;font-family:Menlo,'DejaVu Sans Mono',consolas,'Courier New',monospace\"><span style=\"font-weight: bold\">Model: \"sequential_1\"</span>\n",
              "</pre>\n"
            ]
          },
          "metadata": {}
        },
        {
          "output_type": "display_data",
          "data": {
            "text/plain": [
              "┏━━━━━━━━━━━━━━━━━━━━━━━━━━━━━━━━━━━━━━┳━━━━━━━━━━━━━━━━━━━━━━━━━━━━━┳━━━━━━━━━━━━━━━━━┓\n",
              "┃\u001b[1m \u001b[0m\u001b[1mLayer (type)                        \u001b[0m\u001b[1m \u001b[0m┃\u001b[1m \u001b[0m\u001b[1mOutput Shape               \u001b[0m\u001b[1m \u001b[0m┃\u001b[1m \u001b[0m\u001b[1m        Param #\u001b[0m\u001b[1m \u001b[0m┃\n",
              "┡━━━━━━━━━━━━━━━━━━━━━━━━━━━━━━━━━━━━━━╇━━━━━━━━━━━━━━━━━━━━━━━━━━━━━╇━━━━━━━━━━━━━━━━━┩\n",
              "│ dense_1 (\u001b[38;5;33mDense\u001b[0m)                      │ (\u001b[38;5;45mNone\u001b[0m, \u001b[38;5;34m512\u001b[0m)                 │         \u001b[38;5;34m401,920\u001b[0m │\n",
              "├──────────────────────────────────────┼─────────────────────────────┼─────────────────┤\n",
              "│ dense_2 (\u001b[38;5;33mDense\u001b[0m)                      │ (\u001b[38;5;45mNone\u001b[0m, \u001b[38;5;34m10\u001b[0m)                  │           \u001b[38;5;34m5,130\u001b[0m │\n",
              "└──────────────────────────────────────┴─────────────────────────────┴─────────────────┘\n"
            ],
            "text/html": [
              "<pre style=\"white-space:pre;overflow-x:auto;line-height:normal;font-family:Menlo,'DejaVu Sans Mono',consolas,'Courier New',monospace\">┏━━━━━━━━━━━━━━━━━━━━━━━━━━━━━━━━━━━━━━┳━━━━━━━━━━━━━━━━━━━━━━━━━━━━━┳━━━━━━━━━━━━━━━━━┓\n",
              "┃<span style=\"font-weight: bold\"> Layer (type)                         </span>┃<span style=\"font-weight: bold\"> Output Shape                </span>┃<span style=\"font-weight: bold\">         Param # </span>┃\n",
              "┡━━━━━━━━━━━━━━━━━━━━━━━━━━━━━━━━━━━━━━╇━━━━━━━━━━━━━━━━━━━━━━━━━━━━━╇━━━━━━━━━━━━━━━━━┩\n",
              "│ dense_1 (<span style=\"color: #0087ff; text-decoration-color: #0087ff\">Dense</span>)                      │ (<span style=\"color: #00d7ff; text-decoration-color: #00d7ff\">None</span>, <span style=\"color: #00af00; text-decoration-color: #00af00\">512</span>)                 │         <span style=\"color: #00af00; text-decoration-color: #00af00\">401,920</span> │\n",
              "├──────────────────────────────────────┼─────────────────────────────┼─────────────────┤\n",
              "│ dense_2 (<span style=\"color: #0087ff; text-decoration-color: #0087ff\">Dense</span>)                      │ (<span style=\"color: #00d7ff; text-decoration-color: #00d7ff\">None</span>, <span style=\"color: #00af00; text-decoration-color: #00af00\">10</span>)                  │           <span style=\"color: #00af00; text-decoration-color: #00af00\">5,130</span> │\n",
              "└──────────────────────────────────────┴─────────────────────────────┴─────────────────┘\n",
              "</pre>\n"
            ]
          },
          "metadata": {}
        },
        {
          "output_type": "display_data",
          "data": {
            "text/plain": [
              "\u001b[1m Total params: \u001b[0m\u001b[38;5;34m407,050\u001b[0m (1.55 MB)\n"
            ],
            "text/html": [
              "<pre style=\"white-space:pre;overflow-x:auto;line-height:normal;font-family:Menlo,'DejaVu Sans Mono',consolas,'Courier New',monospace\"><span style=\"font-weight: bold\"> Total params: </span><span style=\"color: #00af00; text-decoration-color: #00af00\">407,050</span> (1.55 MB)\n",
              "</pre>\n"
            ]
          },
          "metadata": {}
        },
        {
          "output_type": "display_data",
          "data": {
            "text/plain": [
              "\u001b[1m Trainable params: \u001b[0m\u001b[38;5;34m407,050\u001b[0m (1.55 MB)\n"
            ],
            "text/html": [
              "<pre style=\"white-space:pre;overflow-x:auto;line-height:normal;font-family:Menlo,'DejaVu Sans Mono',consolas,'Courier New',monospace\"><span style=\"font-weight: bold\"> Trainable params: </span><span style=\"color: #00af00; text-decoration-color: #00af00\">407,050</span> (1.55 MB)\n",
              "</pre>\n"
            ]
          },
          "metadata": {}
        },
        {
          "output_type": "display_data",
          "data": {
            "text/plain": [
              "\u001b[1m Non-trainable params: \u001b[0m\u001b[38;5;34m0\u001b[0m (0.00 B)\n"
            ],
            "text/html": [
              "<pre style=\"white-space:pre;overflow-x:auto;line-height:normal;font-family:Menlo,'DejaVu Sans Mono',consolas,'Courier New',monospace\"><span style=\"font-weight: bold\"> Non-trainable params: </span><span style=\"color: #00af00; text-decoration-color: #00af00\">0</span> (0.00 B)\n",
              "</pre>\n"
            ]
          },
          "metadata": {}
        }
      ],
      "source": [
        "mlp_model.summary()"
      ]
    },
    {
      "cell_type": "code",
      "source": [
        "print(784*512 + 512)\n",
        "print(512*10 + 10)\n",
        "print((784*512+512) + (512*10+10))"
      ],
      "metadata": {
        "id": "22Ci5Bvs-2Yd",
        "colab": {
          "base_uri": "https://localhost:8080/"
        },
        "outputId": "bb613cce-0929-4081-cc1e-9bf30a669435"
      },
      "execution_count": null,
      "outputs": [
        {
          "output_type": "stream",
          "name": "stdout",
          "text": [
            "401920\n",
            "5130\n",
            "407050\n"
          ]
        }
      ]
    },
    {
      "cell_type": "markdown",
      "metadata": {
        "id": "dWX0se9t_8cx"
      },
      "source": [
        "### Train the MLP model\n"
      ]
    },
    {
      "cell_type": "code",
      "execution_count": null,
      "metadata": {
        "scrolled": true,
        "id": "uqIpoOSI_8cx",
        "colab": {
          "base_uri": "https://localhost:8080/"
        },
        "outputId": "a2df4de1-f0fa-472a-8b81-d7fca5d5c4ad"
      },
      "outputs": [
        {
          "output_type": "stream",
          "name": "stdout",
          "text": [
            "Epoch 1/5\n",
            "\u001b[1m469/469\u001b[0m \u001b[32m━━━━━━━━━━━━━━━━━━━━\u001b[0m\u001b[37m\u001b[0m \u001b[1m2s\u001b[0m 3ms/step - accuracy: 0.8716 - loss: 0.4372\n",
            "Epoch 2/5\n",
            "\u001b[1m469/469\u001b[0m \u001b[32m━━━━━━━━━━━━━━━━━━━━\u001b[0m\u001b[37m\u001b[0m \u001b[1m1s\u001b[0m 2ms/step - accuracy: 0.9667 - loss: 0.1132\n",
            "Epoch 3/5\n",
            "\u001b[1m469/469\u001b[0m \u001b[32m━━━━━━━━━━━━━━━━━━━━\u001b[0m\u001b[37m\u001b[0m \u001b[1m1s\u001b[0m 2ms/step - accuracy: 0.9774 - loss: 0.0734\n",
            "Epoch 4/5\n",
            "\u001b[1m469/469\u001b[0m \u001b[32m━━━━━━━━━━━━━━━━━━━━\u001b[0m\u001b[37m\u001b[0m \u001b[1m1s\u001b[0m 2ms/step - accuracy: 0.9851 - loss: 0.0511\n",
            "Epoch 5/5\n",
            "\u001b[1m469/469\u001b[0m \u001b[32m━━━━━━━━━━━━━━━━━━━━\u001b[0m\u001b[37m\u001b[0m \u001b[1m1s\u001b[0m 2ms/step - accuracy: 0.9883 - loss: 0.0372\n"
          ]
        }
      ],
      "source": [
        "history = mlp_model.fit(train_images_new, train_labels_new, epochs=5, batch_size=128)"
      ]
    },
    {
      "cell_type": "markdown",
      "metadata": {
        "id": "oVPUQAtc_8cx"
      },
      "source": [
        "### Evaluation of MLP model"
      ]
    },
    {
      "cell_type": "code",
      "execution_count": null,
      "metadata": {
        "id": "xLZRwxao_8cx",
        "colab": {
          "base_uri": "https://localhost:8080/"
        },
        "outputId": "933e0f7e-9e74-4b87-d7db-653bc235e24a"
      },
      "outputs": [
        {
          "output_type": "stream",
          "name": "stdout",
          "text": [
            "\u001b[1m313/313\u001b[0m \u001b[32m━━━━━━━━━━━━━━━━━━━━\u001b[0m\u001b[37m\u001b[0m \u001b[1m1s\u001b[0m 3ms/step - accuracy: 0.9755 - loss: 0.0779\n"
          ]
        }
      ],
      "source": [
        "test_loss, test_acc = mlp_model.evaluate(test_images_new, test_labels_new)"
      ]
    },
    {
      "cell_type": "code",
      "execution_count": null,
      "metadata": {
        "id": "VMbqcwQT_8cx",
        "colab": {
          "base_uri": "https://localhost:8080/"
        },
        "outputId": "1666d2b7-69e6-4b9a-bdd8-64ae69eb4da0"
      },
      "outputs": [
        {
          "output_type": "stream",
          "name": "stdout",
          "text": [
            "test_acc: 0.979200005531311\n"
          ]
        }
      ],
      "source": [
        "print('test_acc:', test_acc)"
      ]
    },
    {
      "cell_type": "markdown",
      "metadata": {
        "id": "AtZ5Pdml_8cx"
      },
      "source": [
        "The test set accuracy turns out to around *97.8%* -- that's a fair bit lower than the training set accuracy. This gap between training accuracy and test accuracy is an example of \"overfitting\", a situation in which machine learning models perform worse on new data than on their training data."
      ]
    },
    {
      "cell_type": "markdown",
      "metadata": {
        "id": "4aLeBkT-_8cx"
      },
      "source": [
        "### Plot training loss and training accuracy"
      ]
    },
    {
      "cell_type": "code",
      "execution_count": null,
      "metadata": {
        "id": "QwIjut4w_8cx"
      },
      "outputs": [],
      "source": [
        "acc = history.history['accuracy']\n",
        "loss = history.history['loss']\n",
        "\n",
        "epochs = range(len(acc))\n",
        "\n",
        "plt.plot(epochs, loss, '-bo', label='Training loss')\n",
        "plt.title('Training loss')\n",
        "plt.legend()\n",
        "plt.show()\n",
        "\n",
        "plt.plot(epochs, acc, '-bo', label='Training acc')\n",
        "plt.title('Training accuracy')\n",
        "plt.legend()\n",
        "plt.figure()"
      ]
    },
    {
      "cell_type": "markdown",
      "metadata": {
        "id": "onoPBqqG_8c1"
      },
      "source": [
        "### Display some of the wrong guesses for multi-layer perceptron\n",
        "\n",
        "Now let's look for some mis-classified digits.\n",
        "\n"
      ]
    },
    {
      "cell_type": "code",
      "source": [
        "predictions = mlp_model.predict(test_images_new)\n",
        "final_predictions = np.argmax(predictions, axis=1)\n",
        "(incorrects,) = np.nonzero(final_predictions != test_labels)\n",
        "num = 10\n",
        "incorrect_indices = incorrects[0:num]\n",
        "num_row = 2\n",
        "num_col = 5\n",
        "fig, axes = plt.subplots(num_row, num_col, figsize=(1.5*num_col,2*num_row))\n",
        "for i in range(num):\n",
        "    incorrect_index = incorrect_indices[i]\n",
        "    ax = axes[i//num_col, i%num_col]\n",
        "    ax.imshow(test_images[incorrect_index], cmap='gray')\n",
        "    ax.set_title('Label: {}\\nPred: {}'.format(*[test_labels[incorrect_index], final_predictions[incorrect_index]]))\n",
        "plt.tight_layout()\n",
        "plt.show()"
      ],
      "metadata": {
        "id": "fQ9yGi5NHMK_"
      },
      "execution_count": null,
      "outputs": []
    },
    {
      "cell_type": "markdown",
      "source": [
        "---\n",
        "\n",
        "## Part 2. Convolutional Neural Network\n",
        "\n",
        "---"
      ],
      "metadata": {
        "id": "QvDo98YCIpuJ"
      }
    },
    {
      "cell_type": "markdown",
      "source": [
        "### Build the network\n",
        "\n",
        "A basic convnet will be used: a stack of `Conv2D` and `MaxPooling2D` layers.\n",
        "Importantly, a CNN takes as input tensors of shape (`image_height, image_width, image_channels`), not including the batch dimensions. In this case, we have to configure the CNN to process images of a size compatible with the MNIST database, so it will be of size (28, 28, 1). This will be the input shape to pass to the first layer."
      ],
      "metadata": {
        "id": "mX9iEk1UI4nk"
      }
    },
    {
      "cell_type": "code",
      "source": [
        "cnn_model = models.Sequential()\n",
        "cnn_model.add(Input(shape=(28, 28, 1)))\n",
        "cnn_model.add(layers.Conv2D(32, (3, 3), activation='relu'))\n",
        "cnn_model.add(layers.MaxPooling2D((2, 2)))\n",
        "cnn_model.add(layers.Conv2D(64, (3, 3), activation='relu'))\n",
        "cnn_model.add(layers.MaxPooling2D((2, 2)))\n",
        "cnn_model.add(layers.Conv2D(64, (3, 3), activation='relu'))\n",
        "\n",
        "cnn_model.summary()"
      ],
      "metadata": {
        "id": "QYRT88OGAD3p"
      },
      "execution_count": null,
      "outputs": []
    },
    {
      "cell_type": "code",
      "source": [
        "print(3*3*32 + 32)\n",
        "print((3*3*32) * 64 + 64)\n",
        "print((3*3*64) * 64 + 64)\n",
        "print((3*3*32 + 32) + ((3*3*32) * 64 + 64) + ((3*3*64) * 64 + 64))"
      ],
      "metadata": {
        "id": "OI_Vkv8gU-hI"
      },
      "execution_count": null,
      "outputs": []
    },
    {
      "cell_type": "markdown",
      "source": [
        "The output of every `Conv2D` and `MaxPooling2D` layer is also a tensor of shape (`height, width, channels`). Note how the image dimensions tend to shrink as going deeper in the network.\n",
        "\n",
        "While the the 3rd parameter of the input shape indicates the color channels, in the output of a layer it indicates the number of filters (features) over its input. So, every dimension in the depth axis is a feature (filter), and the 2D tensor is a 2D spatial map of the response of this filter over the input."
      ],
      "metadata": {
        "id": "C-R-lxpKJBY7"
      }
    },
    {
      "cell_type": "markdown",
      "source": [
        "#### Insert a classifier on top of the CNN\n",
        "\n",
        "This is a classification problem, so we need to put the last output tensor of the CNN as input to a densely connected network, similar to the one in the SLP/MLP example. We have a class of 10 categories, so the solution will be a 10-way classification, using a final layer of 10 outputs and a `softmax` activation."
      ],
      "metadata": {
        "id": "QMlvaoPxJLhW"
      }
    },
    {
      "cell_type": "code",
      "source": [
        "cnn_model.add(layers.Flatten())\n",
        "cnn_model.add(layers.Dense(64, activation='relu'))\n",
        "cnn_model.add(layers.Dense(10, activation='softmax'))\n",
        "\n",
        "cnn_model.summary()"
      ],
      "metadata": {
        "id": "mCL4AGf2JBzK"
      },
      "execution_count": null,
      "outputs": []
    },
    {
      "cell_type": "markdown",
      "source": [
        "Note that the `Flatten` layer takes as its input a vector of shape (`3 * 3 * 64`), which is the output of the last `Conv2D` layer."
      ],
      "metadata": {
        "id": "YQncyFwyJUcQ"
      }
    },
    {
      "cell_type": "code",
      "source": [
        "print((3*3*64)*64 + 64)\n",
        "print(64*10 + 10)"
      ],
      "metadata": {
        "id": "HkjltARKA1ZU"
      },
      "execution_count": null,
      "outputs": []
    },
    {
      "cell_type": "code",
      "source": [
        "cnn_train_images = train_images.reshape((60000, 28, 28, 1))\n",
        "cnn_train_images = train_images.astype('float32') / 255\n",
        "cnn_test_images = test_images.reshape((10000, 28, 28, 1))\n",
        "cnn_test_images = test_images.astype('float32') / 255"
      ],
      "metadata": {
        "id": "K1uIdvn2Jhq1"
      },
      "execution_count": null,
      "outputs": []
    },
    {
      "cell_type": "markdown",
      "source": [
        "### Train the Convolutional Neural Network (CNN) model"
      ],
      "metadata": {
        "id": "y8y8nhmxLsQc"
      }
    },
    {
      "cell_type": "code",
      "source": [
        "cnn_model.compile(\n",
        "    optimizer='rmsprop',\n",
        "    loss='categorical_crossentropy',\n",
        "    metrics=['accuracy']\n",
        ")\n",
        "history = cnn_model.fit(cnn_train_images, train_labels_new, epochs=5, batch_size=64)"
      ],
      "metadata": {
        "id": "ZQ0QXG2AJPjF"
      },
      "execution_count": null,
      "outputs": []
    },
    {
      "cell_type": "code",
      "source": [
        "acc = history.history['accuracy']\n",
        "loss = history.history['loss']\n",
        "\n",
        "epochs = range(len(acc))\n",
        "\n",
        "plt.plot(epochs, loss, '-bo', label='Training loss')\n",
        "plt.title('Training loss')\n",
        "plt.legend()\n",
        "plt.show()\n",
        "\n",
        "plt.plot(epochs, acc, '-bo', label='Training acc')\n",
        "plt.title('Training accuracy')\n",
        "plt.legend()\n",
        "plt.figure()"
      ],
      "metadata": {
        "id": "4h7Mvl1rJ0aC"
      },
      "execution_count": null,
      "outputs": []
    },
    {
      "cell_type": "markdown",
      "source": [
        "### Evaluate the accuracy of the CNN Model"
      ],
      "metadata": {
        "id": "Wg5D9aB3LxY4"
      }
    },
    {
      "cell_type": "code",
      "source": [
        "test_loss, test_acc = cnn_model.evaluate(cnn_test_images, test_labels_new)"
      ],
      "metadata": {
        "id": "z_T-7r8jJXWs"
      },
      "execution_count": null,
      "outputs": []
    },
    {
      "cell_type": "code",
      "source": [
        "print('test_acc:', test_acc)"
      ],
      "metadata": {
        "id": "Dr2JZvOeJ6EM"
      },
      "execution_count": null,
      "outputs": []
    },
    {
      "cell_type": "markdown",
      "source": [
        "### Look at some failed predictions by the CNN model"
      ],
      "metadata": {
        "id": "Idbn6X5yL0Ig"
      }
    },
    {
      "cell_type": "code",
      "source": [
        "predictions = cnn_model.predict(cnn_test_images)\n",
        "final_predictions = np.argmax(predictions, axis=1)\n",
        "(incorrects,) = np.nonzero(final_predictions != test_labels)\n",
        "num = 10\n",
        "incorrect_indices = incorrects[0:num]\n",
        "num_row = 2\n",
        "num_col = 5\n",
        "fig, axes = plt.subplots(num_row, num_col, figsize=(1.5*num_col,2*num_row))\n",
        "for i in range(num):\n",
        "    incorrect_index = incorrect_indices[i]\n",
        "    ax = axes[i//num_col, i%num_col]\n",
        "    ax.imshow(test_images[incorrect_index], cmap='gray')\n",
        "    ax.set_title('Label: {}\\nPred: {}'.format(*[test_labels[incorrect_index], final_predictions[incorrect_index]]))\n",
        "plt.tight_layout()\n",
        "plt.show()"
      ],
      "metadata": {
        "id": "FuFoJ7luJ75V"
      },
      "execution_count": null,
      "outputs": []
    },
    {
      "cell_type": "markdown",
      "source": [
        "# Bonus Section: GPT-2 Exploration"
      ],
      "metadata": {
        "id": "1MfYmQ-DaiCc"
      }
    },
    {
      "cell_type": "code",
      "source": [
        "!pip install transformers"
      ],
      "metadata": {
        "id": "Ufvy02E4auCR"
      },
      "execution_count": null,
      "outputs": []
    },
    {
      "cell_type": "code",
      "source": [
        "#for reproducibility\n",
        "SEED = 34\n",
        "\n",
        "#maximum number of words in output text\n",
        "MAX_LEN = 70\n",
        "\n",
        "def wrap_print(text, width=80):\n",
        "    for i in range(0, len(text), width):\n",
        "        print(text[i:i+width], end='\\n')\n",
        "\n",
        "import builtins\n",
        "print = builtins.print"
      ],
      "metadata": {
        "id": "RfZyp3vqakMf"
      },
      "execution_count": null,
      "outputs": []
    },
    {
      "cell_type": "code",
      "source": [
        "import torch\n",
        "from transformers import TFGPT2LMHeadModel, GPT2Tokenizer\n",
        "\n",
        "#get large GPT2 tokenizer and GPT2 model\n",
        "#tokenizer = GPT2Tokenizer.from_pretrained(\"gpt2-large\")\n",
        "#GPT2 = TFGPT2LMHeadModel.from_pretrained(\"gpt2-large\", pad_token_id=tokenizer.eos_token_id)\n",
        "\n",
        "#tokenizer = GPT2Tokenizer.from_pretrained(\"gpt2-medium\")\n",
        "#GPT2 = TFGPT2LMHeadModel.from_pretrained(\"gpt2-medium\", pad_token_id=tokenizer.eos_token_id)\n",
        "\n",
        "tokenizer = GPT2Tokenizer.from_pretrained(\"gpt2\")\n",
        "GPT2 = TFGPT2LMHeadModel.from_pretrained(\"gpt2\", pad_token_id=tokenizer.eos_token_id)\n",
        "\n",
        "#view model parameters\n",
        "GPT2.summary()"
      ],
      "metadata": {
        "id": "pZ-YqUcdanBG"
      },
      "execution_count": null,
      "outputs": []
    },
    {
      "cell_type": "code",
      "source": [
        "for variable in GPT2.trainable_variables:\n",
        "    print(variable.name, variable.shape)"
      ],
      "metadata": {
        "id": "XyualmrLcRMq"
      },
      "execution_count": null,
      "outputs": []
    },
    {
      "cell_type": "code",
      "source": [
        "import tensorflow as tf\n",
        "tf.random.set_seed(SEED)"
      ],
      "metadata": {
        "id": "ju-yU4zAarCM"
      },
      "execution_count": null,
      "outputs": []
    },
    {
      "cell_type": "code",
      "source": [
        "input_sequence = \"I don't know about you, but after this long day of work, \""
      ],
      "metadata": {
        "id": "y0ikYXuZakzg"
      },
      "execution_count": null,
      "outputs": []
    },
    {
      "cell_type": "code",
      "source": [
        "# See how many subwords we have\n",
        "vocab_size = tokenizer.vocab_size\n",
        "\n",
        "print(\"vocab size:\", vocab_size)\n",
        "\n",
        "# Tokenize the input sequence\n",
        "tokens = tokenizer.tokenize(input_sequence)\n",
        "\n",
        "# fix the spaces in the tokenized output for viewing purposes\n",
        "tokens_with_spaces = [token.replace('Ġ', ' ') for token in tokens]\n",
        "\n",
        "# Print the subword tokens\n",
        "print(\"tokens:\", tokens_with_spaces)\n",
        "\n",
        "# Convert tokens to input IDs\n",
        "input_ids = tokenizer.convert_tokens_to_ids(tokens)\n",
        "\n",
        "# Print the input IDs\n",
        "print(\"input_ids:\", input_ids, type(input_ids))"
      ],
      "metadata": {
        "id": "sWB4CD4pEmlX"
      },
      "execution_count": null,
      "outputs": []
    },
    {
      "cell_type": "code",
      "source": [
        "# Get the initial embeddings from the GPT-2 model\n",
        "input_embeddings = GPT2.get_input_embeddings()\n",
        "\n",
        "# See the initial embedding vector for the first subword in the input, i.e. the word \"I\" (token #40 in the GPT-2 vocabulary)\n",
        "input_embedding_40 = input_embeddings(40)\n",
        "\n",
        "print(input_embedding_40.shape)\n",
        "\n",
        "# Print out the first 32 elements of the 768-element vector\n",
        "print(input_embedding_40[0:32])"
      ],
      "metadata": {
        "id": "7IXC7JqcJ7J0"
      },
      "execution_count": null,
      "outputs": []
    },
    {
      "cell_type": "code",
      "source": [
        "# encode the sequence of input tokens\n",
        "input_ids = tokenizer.encode(input_sequence, return_tensors='tf')\n",
        "\n",
        "# generate text until the output length reaches 50 tokens\n",
        "greedy_output = GPT2.generate(input_ids, max_length = MAX_LEN)\n",
        "\n",
        "print(\"Output:\\n\" + 100 * '-')\n",
        "wrap_print(tokenizer.decode(greedy_output[0], skip_special_tokens = True))"
      ],
      "metadata": {
        "id": "lPK9c6eKbi9c"
      },
      "execution_count": null,
      "outputs": []
    },
    {
      "cell_type": "code",
      "source": [
        "# use temperature to increase the likelihood of low-\"probability\" candidates being\n",
        "sample_output = GPT2.generate(\n",
        "                             input_ids,\n",
        "                             do_sample = True,\n",
        "                             max_length = MAX_LEN,\n",
        "                             top_k = 0,\n",
        "                             temperature = 0.6\n",
        ")\n",
        "\n",
        "print(\"Output:\\n\" + 100 * '-')\n",
        "wrap_print(tokenizer.decode(sample_output[0], skip_special_tokens = True))"
      ],
      "metadata": {
        "id": "peq6Iw8_d_AE"
      },
      "execution_count": null,
      "outputs": []
    },
    {
      "cell_type": "code",
      "source": [
        "def wrap_print(text, width=80):\n",
        "    for i in range(0, len(text), width):\n",
        "        print(text[i:i+width], end='\\n')\n",
        "\n",
        "\n",
        "# use temperature to increase the likelihood of low-\"probability\" candidates being\n",
        "sample_output = GPT2.generate(\n",
        "                             input_ids,\n",
        "                             do_sample = True,\n",
        "                             max_length = MAX_LEN,\n",
        "                             top_k = 0,\n",
        "                             temperature = 1.0\n",
        ")\n",
        "\n",
        "print(\"Output:\\n\" + 100 * '-')\n",
        "wrap_print(tokenizer.decode(sample_output[0], skip_special_tokens = True))"
      ],
      "metadata": {
        "id": "jSrU0ScWFvxj"
      },
      "execution_count": null,
      "outputs": []
    },
    {
      "cell_type": "code",
      "source": [
        "# sample from only 5 most likely words at each generation step\n",
        "sample_output = GPT2.generate(\n",
        "                             input_ids,\n",
        "                             do_sample = True,\n",
        "                             max_length = MAX_LEN,\n",
        "                             top_k = 5\n",
        ")\n",
        "\n",
        "print(\"Output:\\n\" + 100 * '-')\n",
        "wrap_print(tokenizer.decode(sample_output[0], skip_special_tokens = True), '...')"
      ],
      "metadata": {
        "id": "L4-f1uiSeTGL"
      },
      "execution_count": null,
      "outputs": []
    },
    {
      "cell_type": "code",
      "source": [
        "# sample only from 40% most likely words at each generation step\n",
        "sample_output = GPT2.generate(\n",
        "                             input_ids,\n",
        "                             do_sample = True,\n",
        "                             max_length = MAX_LEN,\n",
        "                             top_p = 0.40,\n",
        "                             top_k = 0\n",
        ")\n",
        "\n",
        "print(\"Output:\\n\" + 100 * '-')\n",
        "wrap_print(tokenizer.decode(sample_output[0], skip_special_tokens = True), '...')"
      ],
      "metadata": {
        "id": "811zuanyectX"
      },
      "execution_count": null,
      "outputs": []
    },
    {
      "cell_type": "code",
      "source": [
        "# combine both sampling techniques\n",
        "sample_outputs = GPT2.generate(\n",
        "                              input_ids,\n",
        "                              do_sample = True,\n",
        "                              max_length = 2*MAX_LEN,                              # to test how long we can generate and have it be coherent\n",
        "                              temperature = .75,\n",
        "                              top_k = 50,\n",
        "                              top_p = 0.85,\n",
        "                              num_return_sequences = 5\n",
        ")\n",
        "\n",
        "print(\"Output:\\n\" + 100 * '-')\n",
        "for i, sample_output in enumerate(sample_outputs):\n",
        "    curr_str = \"{}: {}...\".format(i, tokenizer.decode(sample_output, skip_special_tokens = True))\n",
        "    wrap_print(curr_str)\n",
        "    print('')"
      ],
      "metadata": {
        "id": "RI4kRM2Peh4q"
      },
      "execution_count": null,
      "outputs": []
    },
    {
      "cell_type": "code",
      "source": [
        "prompt1 = 'In a shocking finding, scientist discovered a herd of unicorns living in a remote, previously unexplored valley, in the Andes Mountains. Even more surprising to the researchers was the fact that the unicorns spoke perfect English.'\n",
        "\n",
        "input_ids = tokenizer.encode(prompt1, return_tensors='tf')"
      ],
      "metadata": {
        "id": "Elwg7505e5T7"
      },
      "execution_count": null,
      "outputs": []
    },
    {
      "cell_type": "code",
      "source": [
        "from IPython.display import display, HTML\n",
        "\n",
        "MAX_LEN=1000\n",
        "\n",
        "sample_outputs = GPT2.generate(\n",
        "                              input_ids,\n",
        "                              do_sample = True,\n",
        "                              max_length = MAX_LEN,\n",
        "                              #temperature = .8,\n",
        "                              top_k = 50,\n",
        "                              top_p = 0.85\n",
        "                              #num_return_sequences = 5\n",
        ")\n",
        "\n",
        "print(\"Output:\\n\" + 100 * '-')\n",
        "for i, sample_output in enumerate(sample_outputs):\n",
        "    curr_str = \"{}: {}...\".format(i, tokenizer.decode(sample_output, skip_special_tokens = True))\n",
        "    wrap_print(curr_str)\n",
        "    print('')"
      ],
      "metadata": {
        "id": "bigLARYRfMOs"
      },
      "execution_count": null,
      "outputs": []
    }
  ]
}